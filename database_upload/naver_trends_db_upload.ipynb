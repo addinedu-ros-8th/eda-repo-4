{
 "cells": [
  {
   "cell_type": "code",
   "execution_count": 5,
   "id": "1b342007",
   "metadata": {},
   "outputs": [],
   "source": [
    "import db_function\n",
    "\n",
    "db = db_function.get_db()\n",
    "db.buffered_connect()"
   ]
  },
  {
   "cell_type": "code",
   "execution_count": null,
   "id": "9baa18ef",
   "metadata": {},
   "outputs": [
    {
     "name": "stdout",
     "output_type": "stream",
     "text": [
      "<class 'pandas.core.frame.DataFrame'>\n",
      "RangeIndex: 1365 entries, 0 to 1364\n",
      "Data columns (total 9 columns):\n",
      " #   Column              Non-Null Count  Dtype \n",
      "---  ------              --------------  ----- \n",
      " 0   category            1365 non-null   object\n",
      " 1   gender              1365 non-null   object\n",
      " 2   age_group_10        1365 non-null   object\n",
      " 3   patient_count       1365 non-null   int64 \n",
      " 4   visit_count         1365 non-null   int64 \n",
      " 5   pay_count           1365 non-null   int64 \n",
      " 6   total_medical_cost  1365 non-null   int64 \n",
      " 7   insurer_share       1365 non-null   int64 \n",
      " 8   report_date         1365 non-null   int64 \n",
      "dtypes: int64(6), object(3)\n",
      "memory usage: 96.1+ KB\n"
     ]
    }
   ],
   "source": [
    "import pandas as pd\n",
    "df = pd.read_csv(\"naver_trends_data.csv\")\n",
    "df.info()"
   ]
  },
  {
   "cell_type": "code",
   "execution_count": 15,
   "id": "8ba2b8a9",
   "metadata": {},
   "outputs": [],
   "source": [
    "def query_db_from_df(df, query):\n",
    "    try:\n",
    "        data_tuples = [tuple(x) for x in df.to_numpy()]\n",
    "\n",
    "        db.execute(query, data_tuples)\n",
    "        db.commit()\n",
    "\n",
    "    except Exception as e:\n",
    "            print(e)\n",
    "\n",
    "    finally:\n",
    "        db.close()"
   ]
  },
  {
   "cell_type": "code",
   "execution_count": null,
   "id": "d86b23e5",
   "metadata": {},
   "outputs": [
    {
     "name": "stdout",
     "output_type": "stream",
     "text": [
      "File: 국민관심질병_성별연령별10세구간별현황_수족구병.xlsx - Size: 57897 bytes\n",
      "File: 국민관심질병_성별연령별10세구간별현황_알레르기성결막염.xlsx - Size: 67957 bytes\n",
      "File: 국민관심질병_성별연령별10세구간별현황_온열질환.xlsx - Size: 60616 bytes\n",
      "File: 국민관심질병_성별연령별10세구간별현황_식중독 관련 감염병 질환 .xlsx - Size: 73614 bytes\n",
      "File: 국민관심질병_성별연령별10세구간별현황_한랭질환 .xlsx - Size: 60171 bytes\n",
      "File: 국민관심질병_성별연령별10세구간별현황_알레르기질환.xlsx - Size: 74457 bytes\n",
      "File: 국민관심질병_성별연령별10세구간별현황_장염.xlsx - Size: 73576 bytes\n",
      "File: 국민관심질병_성별연령별10세구간별현황_호흡계통의 질환.xlsx - Size: 78306 bytes\n",
      "File: 국민관심질병_성별연령별10세구간별현황_폐렴.xlsx - Size: 72109 bytes\n",
      "File: 국민관심질병_성별연령별10세구간별현황_인플루엔자.xlsx - Size: 65946 bytes\n",
      "File: 국민관심질병_성별연령별10세구간별현황_대상포진.xlsx - Size: 69633 bytes\n",
      "File: 국민관심질병_성별연령별10세구간별현황_감기.xlsx - Size: 74685 bytes\n"
     ]
    }
   ],
   "source": [
    "import os\n",
    "columns = [\n",
    "    \"category\",\n",
    "    \"gender\",\n",
    "    \"age_group_10\",\n",
    "    \"patient_count\",\n",
    "    \"visit_count\",\n",
    "    \"pay_count\",\n",
    "    \"total_medical_cost\",\n",
    "    \"insurer_share\",\n",
    "    \"report_date\"\n",
    "]\n",
    "\n",
    "directory_path = os.getcwd()\n",
    "\n",
    "query = \"\"\"\n",
    "            INSERT INTO disease_age \n",
    "            (\n",
    "                category,\n",
    "                gender,\n",
    "                age_group_10,\n",
    "                patient_count,\n",
    "                visit_count,\n",
    "                pay_count,\n",
    "                total_medical_cost,\n",
    "                insurer_share,\n",
    "                report_date\n",
    "            ) \n",
    "            VALUES \n",
    "            (%s, %s, %s, %s, %s, %s, %s, %s, %s)\n",
    "        \"\"\"\n",
    "\n",
    "# 디렉토리의 파일 목록 불러오기\n",
    "try:\n",
    "    df = pd.read_excel(\"./19-24_temp_humid_data.xlsx\")\n",
    "    df.columns = columns\n",
    "    df[\"report_date\"] = pd.to_datetime(df[\"report_date\"], format='%Y%m')\n",
    "    query_db_from_df(df)\n",
    "except FileNotFoundError:\n",
    "    print(f\"Directory not found: {directory_path}\")\n",
    "except PermissionError:\n",
    "    print(f\"Permission denied: {directory_path}\")"
   ]
  },
  {
   "cell_type": "code",
   "execution_count": null,
   "id": "ade3b5a0",
   "metadata": {},
   "outputs": [
    {
     "name": "stdout",
     "output_type": "stream",
     "text": [
      "File: 국민관심질병_요양기관소재지별현황_온열질환.xlsx - Size: 48191 bytes\n",
      "File: 국민관심질병_요양기관소재지별현황_수족구병.xlsx - Size: 51543 bytes\n",
      "File: 국민관심질병_요양기관소재지별현황_호흡계통의 질환.xlsx - Size: 63785 bytes\n",
      "File: 국민관심질병_요양기관소재지별현황_알레르기질환.xlsx - Size: 60457 bytes\n",
      "File: 국민관심질병_요양기관소재지별현황_감기.xlsx - Size: 60843 bytes\n",
      "File: 국민관심질병_요양기관소재지별현황_한랭질환 .xlsx - Size: 48174 bytes\n",
      "File: 국민관심질병_요양기관소재지별현황_장염.xlsx - Size: 59271 bytes\n",
      "File: 국민관심질병_요양기관소재지별현황_알레르기성결막염.xlsx - Size: 54323 bytes\n",
      "File: 국민관심질병_요양기관소재지별현황_인플루엔자.xlsx - Size: 53060 bytes\n",
      "File: 국민관심질병_요양기관소재지별현황_식중독 관련 감염병 질환 .xlsx - Size: 59355 bytes\n",
      "File: 국민관심질병_요양기관소재지별현황_대상포진.xlsx - Size: 56535 bytes\n",
      "File: 국민관심질병_요양기관소재지별현황_폐렴.xlsx - Size: 59344 bytes\n"
     ]
    }
   ],
   "source": [
    "import os\n",
    "\n",
    "columns = [\n",
    "    \"category\",\n",
    "    \"region\",    \n",
    "    \"patient_count\",\n",
    "    \"visit_count\",\n",
    "    \"pay_count\",\n",
    "    \"total_medical_cost\",\n",
    "    \"insurer_share\",\n",
    "    \"report_date\"\n",
    "]\n",
    "\n",
    "# 디렉토리의 파일 목록 불러오기\n",
    "try:\n",
    "    file_list = os.listdir(directory_path)\n",
    "\n",
    "    # 파일 목록 순회\n",
    "    for file_name in file_list:\n",
    "        file_path = os.path.join(directory_path, file_name)\n",
    "\n",
    "        if os.path.isfile(file_path):\n",
    "            df = pd.read_excel(directory_path+ \"/\" +file_name)\n",
    "            df.columns = columns\n",
    "            df[\"report_date\"] = pd.to_datetime(df[\"report_date\"], format='%Y%m')\n",
    "            query_db_from_df(df)\n",
    "            print(f\"File: {file_name} - Size: {os.path.getsize(file_path)} bytes\")\n",
    "        elif os.path.isdir(file_path):\n",
    "            print(f\"Directory: {file_name}\")\n",
    "except FileNotFoundError:\n",
    "    print(f\"Directory not found: {directory_path}\")\n",
    "except PermissionError:\n",
    "    print(f\"Permission denied: {directory_path}\")"
   ]
  },
  {
   "cell_type": "code",
   "execution_count": 18,
   "id": "57c0681c",
   "metadata": {},
   "outputs": [
    {
     "name": "stdout",
     "output_type": "stream",
     "text": [
      "File: 국민관심질병_성별연령별10세구간별현황_수족구병.xlsx - Size: 57897 bytes\n",
      "File: 국민관심질병_성별연령별10세구간별현황_알레르기성결막염.xlsx - Size: 67957 bytes\n",
      "File: 국민관심질병_성별연령별10세구간별현황_온열질환.xlsx - Size: 60616 bytes\n",
      "File: 국민관심질병_성별연령별10세구간별현황_식중독 관련 감염병 질환 .xlsx - Size: 73614 bytes\n",
      "File: 국민관심질병_성별연령별10세구간별현황_한랭질환 .xlsx - Size: 60171 bytes\n",
      "File: 국민관심질병_성별연령별10세구간별현황_알레르기질환.xlsx - Size: 74457 bytes\n",
      "File: 국민관심질병_성별연령별10세구간별현황_장염.xlsx - Size: 73576 bytes\n",
      "File: 국민관심질병_성별연령별10세구간별현황_호흡계통의 질환.xlsx - Size: 78306 bytes\n",
      "File: 국민관심질병_성별연령별10세구간별현황_폐렴.xlsx - Size: 72109 bytes\n",
      "File: 국민관심질병_성별연령별10세구간별현황_인플루엔자.xlsx - Size: 65946 bytes\n",
      "File: 국민관심질병_성별연령별10세구간별현황_대상포진.xlsx - Size: 69633 bytes\n",
      "File: 국민관심질병_성별연령별10세구간별현황_감기.xlsx - Size: 74685 bytes\n"
     ]
    }
   ],
   "source": [
    "columns = [\n",
    "    \"category\",\n",
    "    \"gender\",\n",
    "    \"age_group_10\",\n",
    "    \"patient_count\",\n",
    "    \"visit_count\",\n",
    "    \"pay_count\",\n",
    "    \"total_medical_cost\",\n",
    "    \"insurer_share\",\n",
    "    \"report_date\"\n",
    "]\n",
    "\n",
    "# 디렉토리의 파일 목록 불러오기\n",
    "try:\n",
    "    df = pd.read_excel(\"./19-24_temp_humid_data.xlsx\")\n",
    "    df.columns = columns\n",
    "    df[\"report_date\"] = pd.to_datetime(df[\"report_date\"], format='%Y%m')\n",
    "    query_db_from_df(df)\n",
    "except FileNotFoundError:\n",
    "    print(f\"Directory not found: {directory_path}\")\n",
    "except PermissionError:\n",
    "    print(f\"Permission denied: {directory_path}\")"
   ]
  },
  {
   "cell_type": "code",
   "execution_count": 24,
   "id": "ed442634",
   "metadata": {},
   "outputs": [
    {
     "name": "stdout",
     "output_type": "stream",
     "text": [
      "File: 국민관심질병_요양기관소재지별현황_온열질환.xlsx - Size: 48191 bytes\n",
      "File: 국민관심질병_요양기관소재지별현황_수족구병.xlsx - Size: 51543 bytes\n",
      "File: 국민관심질병_요양기관소재지별현황_호흡계통의 질환.xlsx - Size: 63785 bytes\n",
      "File: 국민관심질병_요양기관소재지별현황_알레르기질환.xlsx - Size: 60457 bytes\n",
      "File: 국민관심질병_요양기관소재지별현황_감기.xlsx - Size: 60843 bytes\n",
      "File: 국민관심질병_요양기관소재지별현황_한랭질환 .xlsx - Size: 48174 bytes\n",
      "File: 국민관심질병_요양기관소재지별현황_장염.xlsx - Size: 59271 bytes\n",
      "File: 국민관심질병_요양기관소재지별현황_알레르기성결막염.xlsx - Size: 54323 bytes\n",
      "File: 국민관심질병_요양기관소재지별현황_인플루엔자.xlsx - Size: 53060 bytes\n",
      "File: 국민관심질병_요양기관소재지별현황_식중독 관련 감염병 질환 .xlsx - Size: 59355 bytes\n",
      "File: 국민관심질병_요양기관소재지별현황_대상포진.xlsx - Size: 56535 bytes\n",
      "File: 국민관심질병_요양기관소재지별현황_폐렴.xlsx - Size: 59344 bytes\n"
     ]
    }
   ],
   "source": [
    "import os\n",
    "\n",
    "columns = [\n",
    "    \"category\",\n",
    "    \"region\",    \n",
    "    \"patient_count\",\n",
    "    \"visit_count\",\n",
    "    \"pay_count\",\n",
    "    \"total_medical_cost\",\n",
    "    \"insurer_share\",\n",
    "    \"report_date\"\n",
    "]\n",
    "\n",
    "query = \"\"\"\n",
    "            INSERT INTO disease_do\n",
    "            (\n",
    "                category,\n",
    "                region,\n",
    "                patient_count,\n",
    "                visit_count,\n",
    "                pay_count,\n",
    "                total_medical_cost,\n",
    "                insurer_share,\n",
    "                report_date\n",
    "            ) \n",
    "            VALUES \n",
    "            (%s, %s, %s, %s, %s, %s, %s, %s)\n",
    "        \"\"\"\n",
    "# 디렉토리의 파일 목록 불러오기\n",
    "try:\n",
    "    file_list = os.listdir(directory_path)\n",
    "\n",
    "    # 파일 목록 순회\n",
    "    for file_name in file_list:\n",
    "        file_path = os.path.join(directory_path, file_name)\n",
    "\n",
    "        if os.path.isfile(file_path):\n",
    "            df = pd.read_excel(directory_path+ \"/\" +file_name)\n",
    "            df.columns = columns\n",
    "            df[\"report_date\"] = pd.to_datetime(df[\"report_date\"], format='%Y%m')\n",
    "            query_db_from_df(df)\n",
    "            print(f\"File: {file_name} - Size: {os.path.getsize(file_path)} bytes\")\n",
    "        elif os.path.isdir(file_path):\n",
    "            print(f\"Directory: {file_name}\")\n",
    "except FileNotFoundError:\n",
    "    print(f\"Directory not found: {directory_path}\")\n",
    "except PermissionError:\n",
    "    print(f\"Permission denied: {directory_path}\")"
   ]
  }
 ],
 "metadata": {
  "kernelspec": {
   "display_name": "eda_venv",
   "language": "python",
   "name": "python3"
  },
  "language_info": {
   "codemirror_mode": {
    "name": "ipython",
    "version": 3
   },
   "file_extension": ".py",
   "mimetype": "text/x-python",
   "name": "python",
   "nbconvert_exporter": "python",
   "pygments_lexer": "ipython3",
   "version": "3.10.12"
  }
 },
 "nbformat": 4,
 "nbformat_minor": 5
}
