{
  "cells": [
    {
      "cell_type": "code",
      "execution_count": 2,
      "id": "87e67dc2",
      "metadata": {},
      "outputs": [
        {
          "name": "stdout",
          "output_type": "stream",
          "text": [
            "Collecting python-dotenv\n",
            "  Using cached python_dotenv-1.0.1-py3-none-any.whl.metadata (23 kB)\n",
            "Using cached python_dotenv-1.0.1-py3-none-any.whl (19 kB)\n",
            "Installing collected packages: python-dotenv\n",
            "Successfully installed python-dotenv-1.0.1\n",
            "Note: you may need to restart the kernel to use updated packages.\n"
          ]
        }
      ],
      "source": [
        "%pip install python-dotenv"
      ]
    },
    {
      "cell_type": "code",
      "execution_count": 3,
      "id": "387d41ce",
      "metadata": {},
      "outputs": [],
      "source": [
        "import dotenv\n",
        "import os\n",
        "\n",
        "dotenv_path = '.env'\n",
        "dotenv.load_dotenv(dotenv_path)\n",
        "\n",
        "NAVER_CLIENT_ID = os.getenv('NAVER_API_CLIENT_ID')\n",
        "NAVER_CLIENT_SECRET = os.getenv('NAVER_API_CLIENT_SECRET')"
      ]
    },
    {
      "cell_type": "code",
      "execution_count": null,
      "id": "dd34a044",
      "metadata": {},
      "outputs": [
        {
          "name": "stdout",
          "output_type": "stream",
          "text": [
            "{\"startDate\":\"2022-10-01\",\"endDate\":\"2022-10-04\",\"timeUnit\":\"date\",\"results\":[{\"title\":\"한글\",\"keywords\":[\"한글\",\"korean\"],\"data\":[{\"period\":\"2022-10-01\",\"ratio\":61.4035},{\"period\":\"2022-10-02\",\"ratio\":49.1228},{\"period\":\"2022-10-03\",\"ratio\":84.21052},{\"period\":\"2022-10-04\",\"ratio\":100}]},{\"title\":\"영어\",\"keywords\":[\"영어\",\"english\"],\"data\":[{\"period\":\"2022-10-01\",\"ratio\":24.5614},{\"period\":\"2022-10-02\",\"ratio\":12.2807},{\"period\":\"2022-10-03\",\"ratio\":17.54385},{\"period\":\"2022-10-04\",\"ratio\":15.78947}]}]}\n"
          ]
        }
      ],
      "source": [
        "import urllib.request\n",
        "url = \"https://openapi.naver.com/v1/datalab/search\"\n",
        "# body = \"{\\\"startDate\\\":\\\"2017-01-01\\\",\\\"endDate\\\":\\\"2017-04-30\\\",\\\"timeUnit\\\":\\\"month\\\",\\\"keywordGroups\\\":[{\\\"groupName\\\":\\\"한글\\\",\\\"keywords\\\":[\\\"한글\\\",\\\"korean\\\"]},{\\\"groupName\\\":\\\"영어\\\",\\\"keywords\\\":[\\\"영어\\\",\\\"english\\\"]}],\\\"device\\\":\\\"pc\\\",\\\"ages\\\":[\\\"1\\\",\\\"2\\\"],\\\"gender\\\":\\\"f\\\"}\";\n",
        "body = \"{\\\n",
        "         \\\"startDate\\\":\\\"2022-10-01\\\",\\\n",
        "         \\\"endDate\\\":\\\"2022-10-04\\\",\\\n",
        "         \\\"timeUnit\\\":\\\"date\\\",\\\n",
        "         \\\"keywordGroups\\\":[{\\\"groupName\\\":\\\"한글\\\",\\\"keywords\\\":[\\\"한글\\\",\\\"korean\\\"]},\\\n",
        "                             {\\\"groupName\\\":\\\"영어\\\",\\\"keywords\\\":[\\\"영어\\\",\\\"english\\\"]}\\\n",
        "                            ],\\\n",
        "         \\\"device\\\":\\\"pc\\\",\\\n",
        "         \\\"ages\\\":[\\\"1\\\",\\\"2\\\"],\\\n",
        "         \\\"gender\\\":\\\"f\\\"\\\n",
        "         }\"\n",
        "\n",
        "\n",
        "\n",
        "request = urllib.request.Request(url)\n",
        "request.add_header(\"X-Naver-Client-Id\",NAVER_CLIENT_ID)\n",
        "request.add_header(\"X-Naver-Client-Secret\",NAVER_CLIENT_SECRET)\n",
        "request.add_header(\"Content-Type\",\"application/json\")\n",
        "response = urllib.request.urlopen(request, data=body.encode(\"utf-8\"))\n",
        "rescode = response.getcode()\n",
        "if(rescode==200):\n",
        "    response_body = response.read()\n",
        "    print(response_body.decode('utf-8'))\n",
        "else:\n",
        "    print(\"Error Code:\" + rescode)"
      ]
    },
    {
      "cell_type": "code",
      "execution_count": 14,
      "id": "7c692cf4",
      "metadata": {},
      "outputs": [],
      "source": [
        "import requests\n",
        "import urllib.request\n",
        "# import urllib.parse\n",
        "\n",
        "def format_url_text(text):\n",
        "    return urllib.parse.quote(text)\n",
        "\n",
        "def naver_search_api(query):\n",
        "    format_text = format_url_text(query)\n",
        "\n",
        "    url = f\"https://openapi.naver.com/v1/datalab/search/\"\n",
        "    headers = {\n",
        "        'X-Naver-Client-Id': NAVER_CLIENT_ID,\n",
        "        'X-Naver-Client-Secret': NAVER_CLIENT_SECRET,\n",
        "        'Content-Type': 'application/json'\n",
        "    }\n",
        "    params = {\n",
        "        'query': format_text,\n",
        "    }\n",
        "    response = requests.get(url, headers=headers, params=params)\n",
        "    return response.json()"
      ]
    },
    {
      "cell_type": "code",
      "execution_count": 27,
      "id": "147bed7f",
      "metadata": {},
      "outputs": [],
      "source": [
        "import json\n",
        "import requests\n",
        "import pandas as pd\n",
        "\n",
        "class Naver:\n",
        "    def __init__(self, client_id, client_secret):\n",
        "        self.headers = {\n",
        "            \"X-Naver-Client-Id\": client_id,\n",
        "            \"X-Naver-Client-Secret\": client_secret,\n",
        "            \"Content-Type\": \"application/json\",\n",
        "        }\n",
        "\n",
        "    # API 레퍼런스: https://developers.naver.com/docs/serviceapi/datalab/search/search.md\n",
        "    def datalab_search(self, startDate, endDate, timeUnit, keywordGroups, **kwargs):\n",
        "            # 네이버 통합 검색어 트렌드 조회\n",
        "            # startDate: string        # 조회 시작일\n",
        "            # endDate : string         # 조회 종료일\n",
        "            # timeUnit : string        # 조회 기간\n",
        "            # keywordGroups : list     # 키워드 그룹\n",
        "            # kwargs : dict            # 추가 옵션\n",
        "            # Returns type: DataFrame  # 키워드 그룹별 트렌드 데이터   \n",
        "            \n",
        "            url = \"https://openapi.naver.com/v1/datalab/search\"\n",
        "            data = {\n",
        "                \"startDate\": startDate,\n",
        "                \"endDate\": endDate,\n",
        "                \"timeUnit\": timeUnit,\n",
        "                \"keywordGroups\": keywordGroups,\n",
        "            }\n",
        "            data.update(kwargs)\n",
        "            data = json.dumps(data, ensure_ascii=False).encode(\"utf-8\")\n",
        "            res = requests.post(url, data=data, headers=self.headers)\n",
        "            if res.status_code == 200:\n",
        "                data = res.json()['results']\n",
        "                num = len(data)\n",
        "                df = pd.DataFrame()\n",
        "                for i in range(num):\n",
        "                    sub = pd.DataFrame(data[i]['data'])\n",
        "                    sub['title'] = data[i]['title']\n",
        "                    sub = sub[['title', 'period', 'ratio']]\n",
        "                    df = pd.concat([df, sub], axis=0, ignore_index=True)\n",
        "                pivot = pd.pivot(df, index='period', columns='title',\n",
        "                                values='ratio').reset_index()\n",
        "                pivot.columns.name = None\n",
        "                pivot = pivot.rename(columns={\"period\": \"날짜\"})\n",
        "                return pivot\n",
        "            else:\n",
        "                return res"
      ]
    },
    {
      "cell_type": "code",
      "execution_count": 24,
      "id": "6a70650e",
      "metadata": {},
      "outputs": [],
      "source": [
        "naver_trends = Naver(NAVER_CLIENT_ID, NAVER_CLIENT_SECRET)"
      ]
    },
    {
      "cell_type": "code",
      "execution_count": 29,
      "id": "9b65b999",
      "metadata": {},
      "outputs": [
        {
          "data": {
            "text/html": [
              "<div>\n",
              "<style scoped>\n",
              "    .dataframe tbody tr th:only-of-type {\n",
              "        vertical-align: middle;\n",
              "    }\n",
              "\n",
              "    .dataframe tbody tr th {\n",
              "        vertical-align: top;\n",
              "    }\n",
              "\n",
              "    .dataframe thead th {\n",
              "        text-align: right;\n",
              "    }\n",
              "</style>\n",
              "<table border=\"1\" class=\"dataframe\">\n",
              "  <thead>\n",
              "    <tr style=\"text-align: right;\">\n",
              "      <th></th>\n",
              "      <th>날짜</th>\n",
              "      <th>감기</th>\n",
              "      <th>온열질환</th>\n",
              "    </tr>\n",
              "  </thead>\n",
              "  <tbody>\n",
              "    <tr>\n",
              "      <th>0</th>\n",
              "      <td>2024-10-01</td>\n",
              "      <td>66.96948</td>\n",
              "      <td>30.02562</td>\n",
              "    </tr>\n",
              "    <tr>\n",
              "      <th>1</th>\n",
              "      <td>2024-10-02</td>\n",
              "      <td>94.17656</td>\n",
              "      <td>8.57209</td>\n",
              "    </tr>\n",
              "    <tr>\n",
              "      <th>2</th>\n",
              "      <td>2024-10-03</td>\n",
              "      <td>70.16072</td>\n",
              "      <td>5.45073</td>\n",
              "    </tr>\n",
              "    <tr>\n",
              "      <th>3</th>\n",
              "      <td>2024-10-04</td>\n",
              "      <td>100.00000</td>\n",
              "      <td>6.68530</td>\n",
              "    </tr>\n",
              "  </tbody>\n",
              "</table>\n",
              "</div>"
            ],
            "text/plain": [
              "           날짜         감기      온열질환\n",
              "0  2024-10-01   66.96948  30.02562\n",
              "1  2024-10-02   94.17656   8.57209\n",
              "2  2024-10-03   70.16072   5.45073\n",
              "3  2024-10-04  100.00000   6.68530"
            ]
          },
          "execution_count": 29,
          "metadata": {},
          "output_type": "execute_result"
        }
      ],
      "source": [
        "naver_trends.datalab_search(\"2024-10-01\", \"2024-10-04\", \"date\", \n",
        "                            [{\"groupName\": \"감기\", \"keywords\": [\"감기\", \"기침\", \"독감\"]}, \n",
        "                             {\"groupName\": \"온열질환\", \"keywords\": [\"온열질환\", \"열병\", \"열사병\"]}])"
      ]
    },
    {
      "cell_type": "code",
      "execution_count": null,
      "id": "36cfd67d",
      "metadata": {},
      "outputs": [],
      "source": []
    }
  ],
  "metadata": {
    "kernelspec": {
      "display_name": "data_project_env",
      "language": "python",
      "name": "python3"
    },
    "language_info": {
      "codemirror_mode": {
        "name": "ipython",
        "version": 3
      },
      "file_extension": ".py",
      "mimetype": "text/x-python",
      "name": "python",
      "nbconvert_exporter": "python",
      "pygments_lexer": "ipython3",
      "version": "3.10.16"
    }
  },
  "nbformat": 4,
  "nbformat_minor": 5
}
