{
  "cells": [
    {
      "cell_type": "markdown",
      "id": "f3b3c659",
      "metadata": {},
      "source": [
        "# 날씨 데이터\n",
        "기상자료개방포털 selenium"
      ]
    },
    {
      "cell_type": "code",
      "execution_count": 1,
      "id": "4023453f",
      "metadata": {},
      "outputs": [
        {
          "name": "stderr",
          "output_type": "stream",
          "text": [
            "/Users/yun/Documents/dev_ws/venv/lib/python3.9/site-packages/urllib3/__init__.py:35: NotOpenSSLWarning: urllib3 v2 only supports OpenSSL 1.1.1+, currently the 'ssl' module is compiled with 'LibreSSL 2.8.3'. See: https://github.com/urllib3/urllib3/issues/3020\n",
            "  warnings.warn(\n"
          ]
        }
      ],
      "source": [
        "from selenium import webdriver\n",
        "from selenium.webdriver.chrome.service import Service\n",
        "from selenium.webdriver.common.by import By\n",
        "\n",
        "# 기상청 기상자료개방포털 url\n",
        "options = webdriver.ChromeOptions()\n",
        "\n",
        "url = \"https://data.kma.go.kr/climate/RankState/selectRankStatisticsDivisionList.do?pgmNo=179\"\n",
        "driver = webdriver.Chrome(service=Service(\"/Users/yun/Documents/dev_ws/eda/driver/chromedriver\"),\n",
        "                          options=options)\n",
        "\n",
        "driver.get(url)   \n",
        "\n",
        "time.sleep(3)"
      ]
    },
    {
      "cell_type": "code",
      "execution_count": 18,
      "id": "7d86bccd",
      "metadata": {},
      "outputs": [],
      "source": [
        "driver.quit()"
      ]
    },
    {
      "cell_type": "code",
      "execution_count": 5,
      "id": "66d48f3d",
      "metadata": {},
      "outputs": [],
      "source": [
        "# 선택 버튼\n",
        "loca_butn = driver.find_element(By.CLASS_NAME, \"btn_gray\")\n",
        "loca_butn.click()\n",
        "\n",
        "# 지역 폴더 선택\n",
        "loca_region = driver.find_element(By.ID, \"ztree_2_switch\")\n",
        "loca_region.click()\n",
        "\n",
        "# 지역선택 (강원영동)\n",
        "loca_region_sido = driver.find_element(By.ID, \"ztree_5_a\")\n",
        "loca_region_sido.click()\n",
        "\n",
        "# 선택완료 버튼\n",
        "select_done = driver.find_element(By.CSS_SELECTOR, \"#sidetreecontrol > a\")\n",
        "select_done.click()\n",
        "\n",
        "#기간 중 \"월\" 선택\n",
        "select_month = driver.find_element(By.ID, \"startYear\")\n",
        "select_month.click()\n",
        "select_month_st = select_month.find_element(By.CSS_SELECTOR, \"#startYear > option:nth-child(10)\")\n",
        "select_month_st.click()\n",
        "\n",
        "# 끝 기간 지정 필요 x (2024로 세팅되어있음)\n",
        "# 검색 버튼 클릭\n",
        "search_butn = driver.find_element(By.CSS_SELECTOR, '#schForm > div.wrap_btn > button')\n",
        "search_butn.click()\n",
        "\n",
        "# 엑셀 파일 다운로드\n",
        "xl_file = driver.find_element(By.CSS_SELECTOR, '#div_01_area > div.hd_itm > div > a.btn_file.DOWNLOAD_BTN_XLS')\n",
        "xl_file.click()"
      ]
    },
    {
      "cell_type": "code",
      "execution_count": null,
      "id": "8092e5b9",
      "metadata": {},
      "outputs": [],
      "source": [
        "def weather_temperature_set ():\n",
        "    period = driver.find_element(By.CSS_SELECTOR, '#dataFormCd')\n",
        "    period.click() # 기간 선택\n",
        "\n",
        "    period_daily = driver.find_element(By.CSS_SELECTOR, '#dataFormCd > option:nth-child(1)')\n",
        "    period_daily.click() # 기간에서 '일' 선택\n",
        "    \n",
        "    loca_butn = driver.find_element(By.CLASS_NAME, \"btn_gray\")\n",
        "    loca_butn.click()\n",
        "\n",
        "    loca_region = driver.find_element(By.ID, \"ztree_2_switch\")\n",
        "    loca_region.click()\n",
        "    \n",
        "    loca_region_sido = driver.find_element(By.ID, \"ztree_5_a\")\n",
        "    loca_region_sido.click()\n",
        "    \n",
        "    select_done = driver.find_element(By.CSS_SELECTOR, \"#sidetreecontrol > a\")\n",
        "    select_done.click()\n",
        "\n",
        "    select_month = driver.find_element(By.ID, \"startYear\")\n",
        "    select_month.click()\n",
        "    \n",
        "    select_month_st = select_month.find_element(By.CSS_SELECTOR, \"#startYear > option:nth-child(10)\")\n",
        "    select_month_st.click()"
      ]
    },
    {
      "cell_type": "code",
      "execution_count": null,
      "id": "464916ab",
      "metadata": {},
      "outputs": [],
      "source": [
        "# 여러 지역 정보 한 번에 다운\n",
        "weather_temperature_set()\n",
        "\n",
        "# 지역/지점 선택 버튼 클릭 -> 지역 폴더 선택 -> 지역 클릭 -> 선택 완료 -> 검색 버튼 클릭 -> xls 파일 다운\n",
        "\n",
        "for each in sido_list:\n",
        "    loca_butn = driver.find_element(By.CLASS_NAME, \"btn_gray\")\n",
        "    loca_butn.click() # 지역/지점 선택 버튼\n",
        "\n",
        "    loca_region = driver.find_element(By.ID, \"ztree_2_switch\")\n",
        "    loca_region.click() # '지역'폴더 열기"
      ]
    }
  ],
  "metadata": {
    "kernelspec": {
      "display_name": "venv",
      "language": "python",
      "name": "python3"
    },
    "language_info": {
      "codemirror_mode": {
        "name": "ipython",
        "version": 3
      },
      "file_extension": ".py",
      "mimetype": "text/x-python",
      "name": "python",
      "nbconvert_exporter": "python",
      "pygments_lexer": "ipython3",
      "version": "3.9.6"
    }
  },
  "nbformat": 4,
  "nbformat_minor": 5
}
