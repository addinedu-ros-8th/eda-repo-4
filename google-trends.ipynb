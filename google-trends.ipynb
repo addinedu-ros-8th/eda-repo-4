{
  "cells": [
    {
      "cell_type": "code",
      "execution_count": 306,
      "id": "387d41ce",
      "metadata": {},
      "outputs": [],
      "source": [
        "from selenium import webdriver\n",
        "# from webdriver_manager.chrome import ChromeDriverManager   # 크롬드라이버 동작이 잘 안되서 파이어폭스로 실행\n",
        "# options = webdriver.ChromeOptions()\n",
        "options = webdriver.FirefoxOptions()\n",
        "\n",
        "# 다운로드 경로 설정\n",
        "default_download_path = \"download_dir\"\n",
        "\n",
        "# Firefox 프로파일 설정\n",
        "options.set_preference(\"browser.download.folderList\", 2)\n",
        "options.set_preference(\"browser.download.manager.showWhenStarting\", False)\n",
        "options.set_preference(\"browser.download.dir\", default_download_path)\n",
        "options.set_preference(\"browser.helperApps.neverAsk.saveToDisk\", \"application/octet-stream\")\n",
        "\n",
        "# 웹 드라이버 설정\n",
        "driver = webdriver.Firefox(options=options)"
      ]
    },
    {
      "cell_type": "code",
      "execution_count": 307,
      "id": "03ce0c77",
      "metadata": {},
      "outputs": [],
      "source": [
        "google_trends_url = \"https://trends.google.co.kr/trends?geo=KR&hl=ko\"\n",
        "driver.get(google_trends_url)"
      ]
    },
    {
      "cell_type": "code",
      "execution_count": 308,
      "id": "eabfb883",
      "metadata": {},
      "outputs": [],
      "source": [
        "from selenium.webdriver.common.by import By\n",
        "\n",
        "# 탐색 버튼 클릭\n",
        "driver.find_elements(By.CLASS_NAME, \"VfPpkd-RLmnJb\")[1].click()\n",
        "driver.implicitly_wait(5)"
      ]
    },
    {
      "cell_type": "code",
      "execution_count": 380,
      "id": "3e591518",
      "metadata": {},
      "outputs": [],
      "source": [
        "# 브라우저 줌 레벨을 50%로 설정\n",
        "driver.execute_script(\"document.body.style.zoom='50%'\")"
      ]
    },
    {
      "cell_type": "code",
      "execution_count": 381,
      "id": "49429d3d",
      "metadata": {},
      "outputs": [],
      "source": [
        "# 검색 키워드 목록\n",
        "keyword_list = [\"알레르기성 결막염\", \"결막염\", \"알레르기 질환\", \"알레르기\", \"수족구병\", \"수족구\", \"온열질환\", \"장염\", \"식중독\", \"폐렴\", \"호흡계통의 질환\", \"감기\", \"인플루엔자\", \"한랭질환\"]"
      ]
    },
    {
      "cell_type": "code",
      "execution_count": 382,
      "id": "30153f1b",
      "metadata": {},
      "outputs": [],
      "source": [
        "from selenium.webdriver.common.keys import Keys\n",
        "import time\n",
        "\n",
        "def input_text(input_element, text):\n",
        "    # input_element.send_keys(Keys.CONTROL + \"a\")\n",
        "    # input_element.send_keys(Keys.COMMAND + \"a\")\n",
        "    input_element.clear()\n",
        "    input_element.send_keys(text)\n",
        "    time.sleep(0.2)\n",
        "    input_element.send_keys(Keys.ENTER)"
      ]
    },
    {
      "cell_type": "code",
      "execution_count": 383,
      "id": "dfcb499b",
      "metadata": {},
      "outputs": [
        {
          "name": "stdout",
          "output_type": "stream",
          "text": [
            "Search Date List: ['1/1/2019', '1/31/2019', '2/1/2019', '2/28/2019', '3/1/2019', '3/31/2019', '4/1/2019', '4/30/2019', '5/1/2019', '5/31/2019', '6/1/2019', '6/30/2019', '7/1/2019', '7/31/2019', '8/1/2019', '8/31/2019', '9/1/2019', '9/30/2019', '10/1/2019', '10/31/2019', '11/1/2019', '11/30/2019', '12/1/2019', '12/31/2019', '1/1/2020', '1/31/2020', '2/1/2020', '2/29/2020', '3/1/2020', '3/31/2020', '4/1/2020', '4/30/2020', '5/1/2020', '5/31/2020', '6/1/2020', '6/30/2020', '7/1/2020', '7/31/2020', '8/1/2020', '8/31/2020', '9/1/2020', '9/30/2020', '10/1/2020', '10/31/2020', '11/1/2020', '11/30/2020', '12/1/2020', '12/31/2020', '1/1/2021', '1/31/2021', '2/1/2021', '2/28/2021', '3/1/2021', '3/31/2021', '4/1/2021', '4/30/2021', '5/1/2021', '5/31/2021', '6/1/2021', '6/30/2021', '7/1/2021', '7/31/2021', '8/1/2021', '8/31/2021', '9/1/2021', '9/30/2021', '10/1/2021', '10/31/2021', '11/1/2021', '11/30/2021', '12/1/2021', '12/31/2021', '1/1/2022', '1/31/2022', '2/1/2022', '2/28/2022', '3/1/2022', '3/31/2022', '4/1/2022', '4/30/2022', '5/1/2022', '5/31/2022', '6/1/2022', '6/30/2022', '7/1/2022', '7/31/2022', '8/1/2022', '8/31/2022', '9/1/2022', '9/30/2022', '10/1/2022', '10/31/2022', '11/1/2022', '11/30/2022', '12/1/2022', '12/31/2022', '1/1/2023', '1/31/2023', '2/1/2023', '2/28/2023', '3/1/2023', '3/31/2023', '4/1/2023', '4/30/2023', '5/1/2023', '5/31/2023', '6/1/2023', '6/30/2023', '7/1/2023', '7/31/2023', '8/1/2023', '8/31/2023', '9/1/2023', '9/30/2023', '10/1/2023', '10/31/2023', '11/1/2023', '11/30/2023', '12/1/2023', '12/31/2023', '1/1/2024', '1/31/2024', '2/1/2024', '2/29/2024', '3/1/2024', '3/31/2024', '4/1/2024', '4/30/2024', '5/1/2024', '5/31/2024']\n",
            "Text Date List: ['01012019', '01312019', '02012019', '02282019', '03012019', '03312019', '04012019', '04302019', '05012019', '05312019', '06012019', '06302019', '07012019', '07312019', '08012019', '08312019', '09012019', '09302019', '10012019', '10312019', '11012019', '11302019', '12012019', '12312019', '01012020', '01312020', '02012020', '02292020', '03012020', '03312020', '04012020', '04302020', '05012020', '05312020', '06012020', '06302020', '07012020', '07312020', '08012020', '08312020', '09012020', '09302020', '10012020', '10312020', '11012020', '11302020', '12012020', '12312020', '01012021', '01312021', '02012021', '02282021', '03012021', '03312021', '04012021', '04302021', '05012021', '05312021', '06012021', '06302021', '07012021', '07312021', '08012021', '08312021', '09012021', '09302021', '10012021', '10312021', '11012021', '11302021', '12012021', '12312021', '01012022', '01312022', '02012022', '02282022', '03012022', '03312022', '04012022', '04302022', '05012022', '05312022', '06012022', '06302022', '07012022', '07312022', '08012022', '08312022', '09012022', '09302022', '10012022', '10312022', '11012022', '11302022', '12012022', '12312022', '01012023', '01312023', '02012023', '02282023', '03012023', '03312023', '04012023', '04302023', '05012023', '05312023', '06012023', '06302023', '07012023', '07312023', '08012023', '08312023', '09012023', '09302023', '10012023', '10312023', '11012023', '11302023', '12012023', '12312023', '01012024', '01312024', '02012024', '02292024', '03012024', '03312024', '04012024', '04302024', '05012024', '05312024']\n"
          ]
        }
      ],
      "source": [
        "import pandas as pd\n",
        "\n",
        "date_format = \"%-m/%-d/%Y\"\n",
        "date_format_text = \"%m%d%Y\"\n",
        "\n",
        "# 시작 날짜와 종료 날짜에 대해 월별로 첫날과 마지막 날을 생성\n",
        "# 각 달의 첫날과 마지막 날을 문자열로 추가\n",
        "def date_range(start, end):\n",
        "    date_range = pd.date_range(start=start, end=end, freq='MS')  # 각 달의 시작일\n",
        "    search_date_list = []\n",
        "    text_date_list = []\n",
        "    for date in date_range:\n",
        "        first_day = date.strftime(date_format)\n",
        "        last_day = (date + pd.offsets.MonthEnd(0)).strftime(date_format)\n",
        "        search_date_list.extend([first_day, last_day])\n",
        "        \n",
        "        first_day_text = date.strftime(date_format_text)\n",
        "        last_day_text = (date + pd.offsets.MonthEnd(0)).strftime(date_format_text)\n",
        "        text_date_list.extend([first_day_text, last_day_text])\n",
        "    \n",
        "    return search_date_list, text_date_list\n",
        "\n",
        "search_date_list, text_date_list = date_range(\"20190101\", \"20240501\")\n",
        "print(\"Search Date List:\", search_date_list)\n",
        "print(\"Text Date List:\", text_date_list)"
      ]
    },
    {
      "cell_type": "code",
      "execution_count": 384,
      "id": "dcfc3cfa",
      "metadata": {},
      "outputs": [],
      "source": [
        "import time\n",
        "import os\n",
        "    \n",
        "def get_categories():\n",
        "    categories_div = driver.find_element(By.ID, \"compare-pickers-wrapper\")\n",
        "    categories = categories_div.find_elements(By.CLASS_NAME, \"compare-picker\")\n",
        "    return categories\n",
        "\n",
        "def select_date_category(date_categorie):\n",
        "    date_categorie.click()  # 날짜 범위 선택\n",
        "    time.sleep(0.5)\n",
        "    option_list = driver.find_elements(By.TAG_NAME, \"md-option\")\n",
        "    option_list[-1].click()  # 맞춤 날짜\n",
        "    time.sleep(1)\n",
        "\n",
        "def get_date_input():\n",
        "    date_input = driver.find_elements(By.CLASS_NAME, \"md-datepicker-input\")\n",
        "    start_input = date_input[0]\n",
        "    end_input = date_input[1]\n",
        "    return start_input, end_input\n",
        "\n",
        "# 날짜 범위 지정\n",
        "def input_date(start_input, end_input, start_date, end_date):\n",
        "    input_text(end_input, end_date)\n",
        "    input_text(start_input, start_date)\n",
        "    time.sleep(1)\n",
        "\n",
        "    driver.find_elements(By.CLASS_NAME, \"custom-date-picker-dialog-button\")[1].click()\n",
        "    time.sleep(0.5)\n",
        "\n",
        "def set_date_range(date_categorie, start_date, end_date):\n",
        "    select_date_category(date_categorie)\n",
        "    time.sleep(1)\n",
        "    start_input, end_input = get_date_input()\n",
        "    time.sleep(1)\n",
        "    input_date(start_input, end_input, start_date, end_date)\n",
        "\n",
        "# 웹 검색: \"\"\n",
        "# 뉴스 검색: \"news\"\n",
        "# 이미지 검색: \"images\"\n",
        "# Google 쇼핑: \"froogle\"\n",
        "# 유튜브 검색: \"youtube\"\n",
        "def select_search_type(search_type_categorie, search_type=\"web\"):\n",
        "    search_type_categorie.click()  # 검색 유형 선택\n",
        "    time.sleep(1)\n",
        "\n",
        "    if search_type == \"web\":\n",
        "        search_type = \"\"  # web의 value는 \"\"\n",
        "\n",
        "    element = driver.find_element(By.CSS_SELECTOR, f'md-option[value=\"{search_type}\"]')\n",
        "    element.click()\n",
        "    time.sleep(0.5)\n",
        "    \n",
        "def input_keyword(keyword):\n",
        "    search_keyword_input = driver.find_element(By.CSS_SELECTOR, \"input.ng-valid.ng-valid-required.flex\")\n",
        "    input_text(search_keyword_input, keyword)  # 검색어 입력\n",
        "    time.sleep(0.5)\n",
        "\n",
        "def get_download_button():\n",
        "    csv_download_button_list = driver.find_elements(By.CLASS_NAME, \"widget-actions-item.export\")\n",
        "    interest_over_time_download = csv_download_button_list[0]  # 시간 흐름에 따른 관심도 변화\n",
        "    interest_by_subregion_download = csv_download_button_list[1]  # 하위 지역별 관심도\n",
        "    # related_topics_download = csv_download_button_list[2]  # 관련 주제\n",
        "    # related_queries_download = csv_download_button_list[3]  # 관련 검색어\n",
        "    return interest_over_time_download, interest_by_subregion_download\n",
        "\n",
        "multiTimeline_path = os.path.join(default_download_path, \"multiTimeline.csv\")\n",
        "geoMap_path = os.path.join(default_download_path, \"geoMap.csv\")\n",
        "\n",
        "def rename_downloaded_files(new_multiTimeline_path, new_geoMap_path):\n",
        "    os.rename(multiTimeline_path, new_multiTimeline_path)\n",
        "    os.rename(geoMap_path, new_geoMap_path)\n",
        "        \n",
        "\n",
        "def download_csv_files(move_path, new_multiTimeline_filename, new_geoMap_filename):\n",
        "    time.sleep(1)\n",
        "    interest_over_time_download, interest_by_subregion_download = get_download_button()\n",
        "    \n",
        "    interest_over_time_download.click()\n",
        "    time.sleep(1)\n",
        "    interest_by_subregion_download.click()\n",
        "    time.sleep(1)\n",
        "\n",
        "    new_multiTimeline_filename = f\"{new_multiTimeline_filename}_multiTimeline.csv\"\n",
        "    new_geoMap_filename = f\"{new_geoMap_filename}_geoMap.csv\"\n",
        "    new_multiTimeline_path = os.path.join(move_path, new_multiTimeline_filename)\n",
        "    new_geoMap_path = os.path.join(move_path, new_geoMap_filename)\n",
        "    rename_downloaded_files(new_multiTimeline_path, new_geoMap_path)\n",
        "\n",
        "def download_csv_by_search_type(search_type_categorie, search_type, move_path, new_multiTimeline, new_geoMap):\n",
        "    select_search_type(search_type_categorie, search_type)\n",
        "    time.sleep(1)\n",
        "\n",
        "    new_multiTimeline_filename = f\"{new_multiTimeline}_{search_type}_multiTimeline.csv\"\n",
        "    new_geoMap_filename = f\"{new_geoMap}_{search_type}_geoMap.csv\"\n",
        "    download_csv_files(move_path, new_multiTimeline_filename, new_geoMap_filename)\n",
        "    driver.implicitly_wait(3)"
      ]
    },
    {
      "cell_type": "code",
      "execution_count": 385,
      "id": "91c03458",
      "metadata": {},
      "outputs": [],
      "source": [
        "default_download_path = \"download_dir\"\n",
        "\n",
        "def search_keyword(keyword):\n",
        "    move_path = default_download_path + \"/\" + keyword\n",
        "    os.mkdir(move_path)\n",
        "\n",
        "    for index in range(0, len(search_date_list), 2):\n",
        "        input_keyword(keyword)\n",
        "\n",
        "        start_date = search_date_list[index]\n",
        "        end_date = search_date_list[index+1]\n",
        "\n",
        "        categories = get_categories()\n",
        "        set_date_range(categories[1], start_date, end_date)\n",
        "        \n",
        "        format_start_date = text_date_list[index]\n",
        "        format_end_date = text_date_list[index+1]\n",
        "        new_multiTimeline = f\"{keyword}_{format_start_date}_{format_end_date}\"\n",
        "        new_geoMap = f\"{keyword}_{format_start_date}_{format_end_date}\"\n",
        "        download_csv_files(move_path, new_multiTimeline, new_geoMap)\n",
        "\n",
        "        # search_type_categorie = categories[-1]\n",
        "        # download_csv_by_search_type(search_type_categorie, \"web\", move_path, new_multiTimeline, new_geoMap)\n",
        "        # download_csv_by_search_type(search_type_categorie, \"youtube\", move_path, new_multiTimeline, new_geoMap)\n",
        "        # print(f\"{format_start_date} - {format_end_date} 진행완료\")"
      ]
    },
    {
      "cell_type": "code",
      "execution_count": 388,
      "id": "2e826168",
      "metadata": {},
      "outputs": [
        {
          "name": "stdout",
          "output_type": "stream",
          "text": [
            "알레르기성 결막염 검색 중...\n"
          ]
        },
        {
          "ename": "IndexError",
          "evalue": "list index out of range",
          "output_type": "error",
          "traceback": [
            "\u001b[0;31m---------------------------------------------------------------------------\u001b[0m",
            "\u001b[0;31mIndexError\u001b[0m                                Traceback (most recent call last)",
            "Cell \u001b[0;32mIn[388], line 3\u001b[0m\n\u001b[1;32m      1\u001b[0m \u001b[38;5;28;01mfor\u001b[39;00m keyword \u001b[38;5;129;01min\u001b[39;00m keyword_list:\n\u001b[1;32m      2\u001b[0m     \u001b[38;5;28mprint\u001b[39m(\u001b[38;5;124mf\u001b[39m\u001b[38;5;124m\"\u001b[39m\u001b[38;5;132;01m{\u001b[39;00mkeyword\u001b[38;5;132;01m}\u001b[39;00m\u001b[38;5;124m 검색 중...\u001b[39m\u001b[38;5;124m\"\u001b[39m)\n\u001b[0;32m----> 3\u001b[0m     \u001b[43msearch_keyword\u001b[49m\u001b[43m(\u001b[49m\u001b[43mkeyword\u001b[49m\u001b[43m)\u001b[49m\n\u001b[1;32m      4\u001b[0m     \u001b[38;5;28mprint\u001b[39m(\u001b[38;5;124mf\u001b[39m\u001b[38;5;124m\"\u001b[39m\u001b[38;5;132;01m{\u001b[39;00mkeyword\u001b[38;5;132;01m}\u001b[39;00m\u001b[38;5;124m 검색 완료\u001b[39m\u001b[38;5;124m\"\u001b[39m)\n",
            "Cell \u001b[0;32mIn[385], line 20\u001b[0m, in \u001b[0;36msearch_keyword\u001b[0;34m(keyword)\u001b[0m\n\u001b[1;32m     18\u001b[0m new_multiTimeline \u001b[38;5;241m=\u001b[39m \u001b[38;5;124mf\u001b[39m\u001b[38;5;124m\"\u001b[39m\u001b[38;5;132;01m{\u001b[39;00mkeyword\u001b[38;5;132;01m}\u001b[39;00m\u001b[38;5;124m_\u001b[39m\u001b[38;5;132;01m{\u001b[39;00mformat_start_date\u001b[38;5;132;01m}\u001b[39;00m\u001b[38;5;124m_\u001b[39m\u001b[38;5;132;01m{\u001b[39;00mformat_end_date\u001b[38;5;132;01m}\u001b[39;00m\u001b[38;5;124m\"\u001b[39m\n\u001b[1;32m     19\u001b[0m new_geoMap \u001b[38;5;241m=\u001b[39m \u001b[38;5;124mf\u001b[39m\u001b[38;5;124m\"\u001b[39m\u001b[38;5;132;01m{\u001b[39;00mkeyword\u001b[38;5;132;01m}\u001b[39;00m\u001b[38;5;124m_\u001b[39m\u001b[38;5;132;01m{\u001b[39;00mformat_start_date\u001b[38;5;132;01m}\u001b[39;00m\u001b[38;5;124m_\u001b[39m\u001b[38;5;132;01m{\u001b[39;00mformat_end_date\u001b[38;5;132;01m}\u001b[39;00m\u001b[38;5;124m\"\u001b[39m\n\u001b[0;32m---> 20\u001b[0m \u001b[43mdownload_csv_files\u001b[49m\u001b[43m(\u001b[49m\u001b[43mmove_path\u001b[49m\u001b[43m,\u001b[49m\u001b[43m \u001b[49m\u001b[43mnew_multiTimeline\u001b[49m\u001b[43m,\u001b[49m\u001b[43m \u001b[49m\u001b[43mnew_geoMap\u001b[49m\u001b[43m)\u001b[49m\n",
            "Cell \u001b[0;32mIn[384], line 77\u001b[0m, in \u001b[0;36mdownload_csv_files\u001b[0;34m(move_path, new_multiTimeline_filename, new_geoMap_filename)\u001b[0m\n\u001b[1;32m     75\u001b[0m \u001b[38;5;28;01mdef\u001b[39;00m \u001b[38;5;21mdownload_csv_files\u001b[39m(move_path, new_multiTimeline_filename, new_geoMap_filename):\n\u001b[1;32m     76\u001b[0m     time\u001b[38;5;241m.\u001b[39msleep(\u001b[38;5;241m1\u001b[39m)\n\u001b[0;32m---> 77\u001b[0m     interest_over_time_download, interest_by_subregion_download \u001b[38;5;241m=\u001b[39m \u001b[43mget_download_button\u001b[49m\u001b[43m(\u001b[49m\u001b[43m)\u001b[49m\n\u001b[1;32m     79\u001b[0m     interest_over_time_download\u001b[38;5;241m.\u001b[39mclick()\n\u001b[1;32m     80\u001b[0m     time\u001b[38;5;241m.\u001b[39msleep(\u001b[38;5;241m1\u001b[39m)\n",
            "Cell \u001b[0;32mIn[384], line 62\u001b[0m, in \u001b[0;36mget_download_button\u001b[0;34m()\u001b[0m\n\u001b[1;32m     60\u001b[0m csv_download_button_list \u001b[38;5;241m=\u001b[39m driver\u001b[38;5;241m.\u001b[39mfind_elements(By\u001b[38;5;241m.\u001b[39mCLASS_NAME, \u001b[38;5;124m\"\u001b[39m\u001b[38;5;124mwidget-actions-item.export\u001b[39m\u001b[38;5;124m\"\u001b[39m)\n\u001b[1;32m     61\u001b[0m interest_over_time_download \u001b[38;5;241m=\u001b[39m csv_download_button_list[\u001b[38;5;241m0\u001b[39m]  \u001b[38;5;66;03m# 시간 흐름에 따른 관심도 변화\u001b[39;00m\n\u001b[0;32m---> 62\u001b[0m interest_by_subregion_download \u001b[38;5;241m=\u001b[39m \u001b[43mcsv_download_button_list\u001b[49m\u001b[43m[\u001b[49m\u001b[38;5;241;43m1\u001b[39;49m\u001b[43m]\u001b[49m  \u001b[38;5;66;03m# 하위 지역별 관심도\u001b[39;00m\n\u001b[1;32m     63\u001b[0m \u001b[38;5;66;03m# related_topics_download = csv_download_button_list[2]  # 관련 주제\u001b[39;00m\n\u001b[1;32m     64\u001b[0m \u001b[38;5;66;03m# related_queries_download = csv_download_button_list[3]  # 관련 검색어\u001b[39;00m\n\u001b[1;32m     65\u001b[0m \u001b[38;5;28;01mreturn\u001b[39;00m interest_over_time_download, interest_by_subregion_download\n",
            "\u001b[0;31mIndexError\u001b[0m: list index out of range"
          ]
        }
      ],
      "source": [
        "for keyword in keyword_list:\n",
        "    print(f\"{keyword} 검색 중...\")\n",
        "    search_keyword(keyword)\n",
        "    print(f\"{keyword} 검색 완료\")"
      ]
    },
    {
      "cell_type": "code",
      "execution_count": null,
      "id": "7d59f122",
      "metadata": {},
      "outputs": [],
      "source": []
    }
  ],
  "metadata": {
    "kernelspec": {
      "display_name": "notion",
      "language": "python",
      "name": "python3"
    },
    "language_info": {
      "codemirror_mode": {
        "name": "ipython",
        "version": 3
      },
      "file_extension": ".py",
      "mimetype": "text/x-python",
      "name": "python",
      "nbconvert_exporter": "python",
      "pygments_lexer": "ipython3",
      "version": "3.13.0"
    }
  },
  "nbformat": 4,
  "nbformat_minor": 5
}
