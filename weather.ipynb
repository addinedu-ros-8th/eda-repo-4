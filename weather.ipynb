{
  "cells": [
    {
      "cell_type": "code",
      "execution_count": 11,
      "id": "387d41ce",
      "metadata": {},
      "outputs": [],
      "source": [
        "import requests  # requests 모듈 임포트\n",
        "# url = \"https://apihub.kma.go.kr/api/typ01/url/kma_sfcdd3.php?tm1=20190101&tm2=20190131&obs=TA:HM&stn=0&help=1&mode=1&authKey=fzmRwk4QQGe5kcJOEEBn2Q\"\n",
        "url = \"https://apihub.kma.go.kr/api/typ01/url/kma_sfcdd3.php?tm1=20190101&tm2=20190131&obs=TA&stn=0&help=1&mode=1&authKey=fzmRwk4QQGe5kcJOEEBn2Q\"\n",
        "response = requests.get(url) # 파일 URL에 GET 요청 보내기"
      ]
    },
    {
      "cell_type": "code",
      "execution_count": 14,
      "id": "d190f631",
      "metadata": {},
      "outputs": [
        {
          "name": "stdout",
          "output_type": "stream",
          "text": [
            "{\n",
            "  \"result\" : {\n",
            "    \"status\" : 403,\n",
            "    \"message\" : \"활용신청이 필요한 API 입니다. 활용신청 후 다시 시도해 주십시오.\"\n",
            "  }\n",
            "}\n"
          ]
        }
      ],
      "source": [
        "byte_str = response.content\n",
        "\n",
        "decoded_str = byte_str.decode('utf-8')\n",
        "print(decoded_str)"
      ]
    },
    {
      "cell_type": "code",
      "execution_count": 19,
      "id": "2a8e80ce",
      "metadata": {},
      "outputs": [
        {
          "ename": "UnicodeDecodeError",
          "evalue": "'utf-16-le' codec can't decode bytes in position 134-135: illegal UTF-16 surrogate",
          "output_type": "error",
          "traceback": [
            "\u001b[0;31m---------------------------------------------------------------------------\u001b[0m",
            "\u001b[0;31mUnicodeDecodeError\u001b[0m                        Traceback (most recent call last)",
            "Cell \u001b[0;32mIn[19], line 5\u001b[0m\n\u001b[1;32m      2\u001b[0m response \u001b[38;5;241m=\u001b[39m requests\u001b[38;5;241m.\u001b[39mget(url) \u001b[38;5;66;03m# 파일 URL에 GET 요청 보내기\u001b[39;00m\n\u001b[1;32m      3\u001b[0m byte_str \u001b[38;5;241m=\u001b[39m response\u001b[38;5;241m.\u001b[39mcontent\n\u001b[0;32m----> 5\u001b[0m decoded_str \u001b[38;5;241m=\u001b[39m \u001b[43mbyte_str\u001b[49m\u001b[38;5;241;43m.\u001b[39;49m\u001b[43mdecode\u001b[49m\u001b[43m(\u001b[49m\u001b[38;5;124;43m'\u001b[39;49m\u001b[38;5;124;43mutf-16\u001b[39;49m\u001b[38;5;124;43m'\u001b[39;49m\u001b[43m)\u001b[49m\n\u001b[1;32m      6\u001b[0m \u001b[38;5;28mprint\u001b[39m(byte_str)\n",
            "\u001b[0;31mUnicodeDecodeError\u001b[0m: 'utf-16-le' codec can't decode bytes in position 134-135: illegal UTF-16 surrogate"
          ]
        }
      ],
      "source": [
        "url = \"https://apihub.kma.go.kr/api/typ01/url/kma_sfctm2.php?tm=202211300900&stn=0&help=1&authKey=fzmRwk4QQGe5kcJOEEBn2Q\"\n",
        "response = requests.get(url) # 파일 URL에 GET 요청 보내기\n",
        "byte_str = response.content\n",
        "\n",
        "decoded_str = byte_str.decode('utf-8')\n",
        "print(byte_str)"
      ]
    },
    {
      "cell_type": "code",
      "execution_count": null,
      "id": "42fe7d60",
      "metadata": {},
      "outputs": [],
      "source": []
    }
  ],
  "metadata": {
    "kernelspec": {
      "display_name": "data_project_env",
      "language": "python",
      "name": "python3"
    },
    "language_info": {
      "codemirror_mode": {
        "name": "ipython",
        "version": 3
      },
      "file_extension": ".py",
      "mimetype": "text/x-python",
      "name": "python",
      "nbconvert_exporter": "python",
      "pygments_lexer": "ipython3",
      "version": "3.10.16"
    }
  },
  "nbformat": 4,
  "nbformat_minor": 5
}
