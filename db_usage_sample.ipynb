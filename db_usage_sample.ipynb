{
  "cells": [
    {
<<<<<<< HEAD
      "cell_type": "markdown",
      "id": "849bd23c",
      "metadata": {},
      "source": [
        "# `database_connect.py`: 기본 Database Function\n",
        "# `db_function.py`: Dataframe으로 Database에 업로드 및 Database에 빠른 연결"
      ]
    },
    {
=======
>>>>>>> 65c5bc1 (Update db function)
      "cell_type": "code",
      "execution_count": null,
      "id": "387d41ce",
      "metadata": {},
      "outputs": [],
<<<<<<< HEAD
      "source": [
        "import db_function\n",
        "# db_function.py\n",
        "\n",
        "# Database connection\n",
        "db_function.get_db()\n",
        "\n",
        "# Database Engine\n",
        "db_function.get_engine()\n",
        "\n",
        "### Database to DataFrame\n",
        "db_function.create_table_from_df('table_name', 'df_name')      # Dataframe 구조대로 Database 생성\n",
        "db_function.insert_table_from_df('table_name', 'df_name')      # Dataframe 데이터를 Database에 삽입\n",
        "\n",
        "db_function.initialize_table_from_df('table_name', 'df_name')  # Dataframe 구조대로 Database 생성 및 데이터 삽입"
      ]
    },
    {
      "cell_type": "code",
      "execution_count": null,
      "id": "9f959453",
      "metadata": {},
      "outputs": [],
      "source": [
        "# database_connect.py\n",
        "db = db_function.get_db()\n",
        "\n",
        "db.db_info()   # print db info\n",
        "\n",
        "db.set_db_name(\"db_name\")\n",
        "db.set_cursor_buffered_true()\n",
        "\n",
        "db.connect()\n",
        "db.buffered_connect()\n",
        "db.commit()\n",
        "db.rollback()\n",
        "db.close()\n",
        "\n",
        "db.execute(operation=\"your_query\", params=None, multi=None)\n",
        "db.fetchall()\n",
        "\n",
        "db.create_table(\"table_name\", \"columns\", primary_key=None, foreign_key=None)\n",
        "db.drop_table(\"table_name\")\n",
        "\n",
        "db.select(\"table_name\", \"columns\", \"condition\")\n",
        "db.update(\"table_name\", \"columns\", \"condition\")\n",
        "db.insert(\"table_name\", \"columns\", \"values\")\n",
        "db.delete(\"table_name\", \"condition\")"
      ]
=======
      "source": []
>>>>>>> 65c5bc1 (Update db function)
    }
  ],
  "metadata": {
    "kernelspec": {
      "display_name": "Python 3",
      "language": "python",
      "name": "python3"
    },
    "language_info": {
      "name": "python",
      "version": "3.9.6"
    }
  },
  "nbformat": 4,
  "nbformat_minor": 5
}
